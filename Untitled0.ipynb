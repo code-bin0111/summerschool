{
  "nbformat": 4,
  "nbformat_minor": 0,
  "metadata": {
    "colab": {
      "provenance": [],
      "authorship_tag": "ABX9TyN8TwoYQR3ePE8eQw7mMHpA",
      "include_colab_link": true
    },
    "kernelspec": {
      "name": "python3",
      "display_name": "Python 3"
    },
    "language_info": {
      "name": "python"
    }
  },
  "cells": [
    {
      "cell_type": "markdown",
      "metadata": {
        "id": "view-in-github",
        "colab_type": "text"
      },
      "source": [
        "<a href=\"https://colab.research.google.com/github/code-bin0111/summerschool/blob/main/Untitled0.ipynb\" target=\"_parent\"><img src=\"https://colab.research.google.com/assets/colab-badge.svg\" alt=\"Open In Colab\"/></a>"
      ]
    },
    {
      "cell_type": "code",
      "execution_count": null,
      "metadata": {
        "colab": {
          "base_uri": "https://localhost:8080/",
          "height": 77
        },
        "id": "1ODjDfz9bfom",
        "outputId": "a5f9c7dc-e004-4712-8b3e-1b277a00cf52"
      },
      "outputs": [
        {
          "output_type": "display_data",
          "data": {
            "text/plain": [
              "<IPython.core.display.HTML object>"
            ],
            "text/html": [
              "\n",
              "     <input type=\"file\" id=\"files-9d6e5603-5f14-46fe-8b05-be5b182d449d\" name=\"files[]\" multiple disabled\n",
              "        style=\"border:none\" />\n",
              "     <output id=\"result-9d6e5603-5f14-46fe-8b05-be5b182d449d\">\n",
              "      Upload widget is only available when the cell has been executed in the\n",
              "      current browser session. Please rerun this cell to enable.\n",
              "      </output>\n",
              "      <script>// Copyright 2017 Google LLC\n",
              "//\n",
              "// Licensed under the Apache License, Version 2.0 (the \"License\");\n",
              "// you may not use this file except in compliance with the License.\n",
              "// You may obtain a copy of the License at\n",
              "//\n",
              "//      http://www.apache.org/licenses/LICENSE-2.0\n",
              "//\n",
              "// Unless required by applicable law or agreed to in writing, software\n",
              "// distributed under the License is distributed on an \"AS IS\" BASIS,\n",
              "// WITHOUT WARRANTIES OR CONDITIONS OF ANY KIND, either express or implied.\n",
              "// See the License for the specific language governing permissions and\n",
              "// limitations under the License.\n",
              "\n",
              "/**\n",
              " * @fileoverview Helpers for google.colab Python module.\n",
              " */\n",
              "(function(scope) {\n",
              "function span(text, styleAttributes = {}) {\n",
              "  const element = document.createElement('span');\n",
              "  element.textContent = text;\n",
              "  for (const key of Object.keys(styleAttributes)) {\n",
              "    element.style[key] = styleAttributes[key];\n",
              "  }\n",
              "  return element;\n",
              "}\n",
              "\n",
              "// Max number of bytes which will be uploaded at a time.\n",
              "const MAX_PAYLOAD_SIZE = 100 * 1024;\n",
              "\n",
              "function _uploadFiles(inputId, outputId) {\n",
              "  const steps = uploadFilesStep(inputId, outputId);\n",
              "  const outputElement = document.getElementById(outputId);\n",
              "  // Cache steps on the outputElement to make it available for the next call\n",
              "  // to uploadFilesContinue from Python.\n",
              "  outputElement.steps = steps;\n",
              "\n",
              "  return _uploadFilesContinue(outputId);\n",
              "}\n",
              "\n",
              "// This is roughly an async generator (not supported in the browser yet),\n",
              "// where there are multiple asynchronous steps and the Python side is going\n",
              "// to poll for completion of each step.\n",
              "// This uses a Promise to block the python side on completion of each step,\n",
              "// then passes the result of the previous step as the input to the next step.\n",
              "function _uploadFilesContinue(outputId) {\n",
              "  const outputElement = document.getElementById(outputId);\n",
              "  const steps = outputElement.steps;\n",
              "\n",
              "  const next = steps.next(outputElement.lastPromiseValue);\n",
              "  return Promise.resolve(next.value.promise).then((value) => {\n",
              "    // Cache the last promise value to make it available to the next\n",
              "    // step of the generator.\n",
              "    outputElement.lastPromiseValue = value;\n",
              "    return next.value.response;\n",
              "  });\n",
              "}\n",
              "\n",
              "/**\n",
              " * Generator function which is called between each async step of the upload\n",
              " * process.\n",
              " * @param {string} inputId Element ID of the input file picker element.\n",
              " * @param {string} outputId Element ID of the output display.\n",
              " * @return {!Iterable<!Object>} Iterable of next steps.\n",
              " */\n",
              "function* uploadFilesStep(inputId, outputId) {\n",
              "  const inputElement = document.getElementById(inputId);\n",
              "  inputElement.disabled = false;\n",
              "\n",
              "  const outputElement = document.getElementById(outputId);\n",
              "  outputElement.innerHTML = '';\n",
              "\n",
              "  const pickedPromise = new Promise((resolve) => {\n",
              "    inputElement.addEventListener('change', (e) => {\n",
              "      resolve(e.target.files);\n",
              "    });\n",
              "  });\n",
              "\n",
              "  const cancel = document.createElement('button');\n",
              "  inputElement.parentElement.appendChild(cancel);\n",
              "  cancel.textContent = 'Cancel upload';\n",
              "  const cancelPromise = new Promise((resolve) => {\n",
              "    cancel.onclick = () => {\n",
              "      resolve(null);\n",
              "    };\n",
              "  });\n",
              "\n",
              "  // Wait for the user to pick the files.\n",
              "  const files = yield {\n",
              "    promise: Promise.race([pickedPromise, cancelPromise]),\n",
              "    response: {\n",
              "      action: 'starting',\n",
              "    }\n",
              "  };\n",
              "\n",
              "  cancel.remove();\n",
              "\n",
              "  // Disable the input element since further picks are not allowed.\n",
              "  inputElement.disabled = true;\n",
              "\n",
              "  if (!files) {\n",
              "    return {\n",
              "      response: {\n",
              "        action: 'complete',\n",
              "      }\n",
              "    };\n",
              "  }\n",
              "\n",
              "  for (const file of files) {\n",
              "    const li = document.createElement('li');\n",
              "    li.append(span(file.name, {fontWeight: 'bold'}));\n",
              "    li.append(span(\n",
              "        `(${file.type || 'n/a'}) - ${file.size} bytes, ` +\n",
              "        `last modified: ${\n",
              "            file.lastModifiedDate ? file.lastModifiedDate.toLocaleDateString() :\n",
              "                                    'n/a'} - `));\n",
              "    const percent = span('0% done');\n",
              "    li.appendChild(percent);\n",
              "\n",
              "    outputElement.appendChild(li);\n",
              "\n",
              "    const fileDataPromise = new Promise((resolve) => {\n",
              "      const reader = new FileReader();\n",
              "      reader.onload = (e) => {\n",
              "        resolve(e.target.result);\n",
              "      };\n",
              "      reader.readAsArrayBuffer(file);\n",
              "    });\n",
              "    // Wait for the data to be ready.\n",
              "    let fileData = yield {\n",
              "      promise: fileDataPromise,\n",
              "      response: {\n",
              "        action: 'continue',\n",
              "      }\n",
              "    };\n",
              "\n",
              "    // Use a chunked sending to avoid message size limits. See b/62115660.\n",
              "    let position = 0;\n",
              "    do {\n",
              "      const length = Math.min(fileData.byteLength - position, MAX_PAYLOAD_SIZE);\n",
              "      const chunk = new Uint8Array(fileData, position, length);\n",
              "      position += length;\n",
              "\n",
              "      const base64 = btoa(String.fromCharCode.apply(null, chunk));\n",
              "      yield {\n",
              "        response: {\n",
              "          action: 'append',\n",
              "          file: file.name,\n",
              "          data: base64,\n",
              "        },\n",
              "      };\n",
              "\n",
              "      let percentDone = fileData.byteLength === 0 ?\n",
              "          100 :\n",
              "          Math.round((position / fileData.byteLength) * 100);\n",
              "      percent.textContent = `${percentDone}% done`;\n",
              "\n",
              "    } while (position < fileData.byteLength);\n",
              "  }\n",
              "\n",
              "  // All done.\n",
              "  yield {\n",
              "    response: {\n",
              "      action: 'complete',\n",
              "    }\n",
              "  };\n",
              "}\n",
              "\n",
              "scope.google = scope.google || {};\n",
              "scope.google.colab = scope.google.colab || {};\n",
              "scope.google.colab._files = {\n",
              "  _uploadFiles,\n",
              "  _uploadFilesContinue,\n",
              "};\n",
              "})(self);\n",
              "</script> "
            ]
          },
          "metadata": {}
        },
        {
          "output_type": "stream",
          "name": "stdout",
          "text": [
            "Saving calcIncome.py to calcIncome.py\n"
          ]
        }
      ],
      "source": [
        "from google.colab import files\n",
        "src = list(files.upload().values())[0]\n",
        "\n"
      ]
    },
    {
      "cell_type": "code",
      "source": [
        "# 문자열 변수\n",
        "str1 = '100'\n",
        "str2 = '200'\n",
        "str3 = '12.345'\n",
        "\n",
        "# 형 변환\n",
        "int1 = int(str1)\n",
        "int2 = int(str2)\n",
        "float1 = float(str3)\n",
        "\n",
        "# 타입 비교는 == 연산자를 사용한다.\n",
        "print( int1 == str) # int1 변수는 문자열인가? 답은 False\n",
        "\n",
        "sum = int1 + int2\n",
        "print('출력1 : ', sum)   # 출력1 :  300\n",
        "\n",
        "float2 = float1 + 35.2\n",
        "print('출력2 : ', float2)   # 출력2 :  47.545\n",
        "\n",
        "# 데이터의 타입을 확인한다.\n",
        "# type() 함수를 이용하여 해당 변수가 어떤 종류의 타입인지 확인할 수 있습니다.\n",
        "print(type(str1))   # <class 'str'>\n",
        "print(type(int1))   # <class 'int'>\n",
        "print(type(float1))\t# <class 'float'>]"
      ],
      "metadata": {
        "colab": {
          "base_uri": "https://localhost:8080/"
        },
        "id": "GH5679b4jMvo",
        "outputId": "8b085211-ae8d-4143-a690-bea2ecdb7fbd"
      },
      "execution_count": null,
      "outputs": [
        {
          "output_type": "stream",
          "name": "stdout",
          "text": [
            "False\n",
            "출력1 :  300\n",
            "출력2 :  47.545\n",
            "<class 'str'>\n",
            "<class 'int'>\n",
            "<class 'float'>\n"
          ]
        }
      ]
    },
    {
      "cell_type": "code",
      "source": [
        "# 문자열 변수\n",
        "str1 = '100'\n",
        "str2 = '200'\n",
        "str3 = '12.345'\n"
      ],
      "metadata": {
        "colab": {
          "base_uri": "https://localhost:8080/"
        },
        "id": "9emoRU4njb9N",
        "outputId": "f18e7d4b-5498-4efe-a8a0-64ea9128279c"
      },
      "execution_count": null,
      "outputs": [
        {
          "output_type": "stream",
          "name": "stdout",
          "text": [
            "200\n"
          ]
        }
      ]
    },
    {
      "cell_type": "code",
      "source": [
        "int1 = int(str1)\n",
        "int2 = int(str2)\n",
        "float1 = float(str3)\n",
        "\n",
        "int1+int2"
      ],
      "metadata": {
        "colab": {
          "base_uri": "https://localhost:8080/"
        },
        "id": "xKyz8Cm2cAU7",
        "outputId": "4f805d64-c9ae-4038-95e8-3165f46e9b79"
      },
      "execution_count": null,
      "outputs": [
        {
          "output_type": "execute_result",
          "data": {
            "text/plain": [
              "300"
            ]
          },
          "metadata": {},
          "execution_count": 14
        }
      ]
    },
    {
      "cell_type": "code",
      "source": [
        "int1 == str"
      ],
      "metadata": {
        "colab": {
          "base_uri": "https://localhost:8080/"
        },
        "id": "G3n8c4uVkcV4",
        "outputId": "26be1fe1-ba95-4b26-a3d0-f013f2e076ca"
      },
      "execution_count": null,
      "outputs": [
        {
          "output_type": "execute_result",
          "data": {
            "text/plain": [
              "False"
            ]
          },
          "metadata": {},
          "execution_count": 15
        }
      ]
    },
    {
      "cell_type": "code",
      "source": [
        "sum = int1 + int2\n",
        "print('출력1 : ', sum)"
      ],
      "metadata": {
        "id": "izsCKgwQky7X"
      },
      "execution_count": null,
      "outputs": []
    },
    {
      "cell_type": "code",
      "source": [
        "float2 = float1 + 35.2\n",
        "print('출력2 : ', float2)   # 출력2 :  47.545"
      ],
      "metadata": {
        "id": "sip9W5ITkzlX"
      },
      "execution_count": null,
      "outputs": []
    },
    {
      "cell_type": "code",
      "source": [
        "print(type(str1))   # <class 'str'>\n",
        "print(type(int1))   # <class 'int'>\n",
        "print(type(float1))\t# <class 'float'>]"
      ],
      "metadata": {
        "id": "oVOewf9Rkztm"
      },
      "execution_count": null,
      "outputs": []
    },
    {
      "cell_type": "code",
      "source": [
        "a=int(input())\n",
        "a"
      ],
      "metadata": {
        "colab": {
          "base_uri": "https://localhost:8080/"
        },
        "id": "ib-Mfv6Akzxn",
        "outputId": "69bcfff4-f579-434c-e83b-019ed4ff7344"
      },
      "execution_count": null,
      "outputs": [
        {
          "name": "stdout",
          "output_type": "stream",
          "text": [
            "43\n"
          ]
        },
        {
          "output_type": "execute_result",
          "data": {
            "text/plain": [
              "43"
            ]
          },
          "metadata": {},
          "execution_count": 16
        }
      ]
    },
    {
      "cell_type": "code",
      "source": [
        "coffee = 3      # 판매 가능한 커피 수\n",
        "price = 2000    # 커피의 단가\n",
        "\n",
        "print(\"우리 매장에 커피 {}잔이 있습니다.\".format(coffee))\n",
        "\n",
        "money = int(input(\"돈을 넣어주세요 : \"))        #돈을 넣어주세요 : 3000\n",
        "print(\"{}원을 입금하셨습니다.\".format(money))    #3000원을 입금하셨습니다.\n",
        "\n",
        "change = money - price\n",
        "print(\"거스름돈은 {}원이며, 커피 {}잔을 판매합니다.\".format(change, 1))\n",
        "print(\"남은 커피의 양은 {}잔입니다.\\n\".format(coffee-1))\n"
      ],
      "metadata": {
        "colab": {
          "base_uri": "https://localhost:8080/",
          "height": 418
        },
        "id": "WhbdlNjskzzu",
        "outputId": "2ecc6f6f-a5e5-4299-e58b-e5860cd18b7b"
      },
      "execution_count": null,
      "outputs": [
        {
          "output_type": "stream",
          "name": "stdout",
          "text": [
            "우리 매장에 커피 3잔이 있습니다.\n"
          ]
        },
        {
          "output_type": "error",
          "ename": "KeyboardInterrupt",
          "evalue": "ignored",
          "traceback": [
            "\u001b[0;31m---------------------------------------------------------------------------\u001b[0m",
            "\u001b[0;31mKeyboardInterrupt\u001b[0m                         Traceback (most recent call last)",
            "\u001b[0;32m<ipython-input-21-5908e0f0bbc9>\u001b[0m in \u001b[0;36m<cell line: 6>\u001b[0;34m()\u001b[0m\n\u001b[1;32m      4\u001b[0m \u001b[0mprint\u001b[0m\u001b[0;34m(\u001b[0m\u001b[0;34m\"우리 매장에 커피 {}잔이 있습니다.\"\u001b[0m\u001b[0;34m.\u001b[0m\u001b[0mformat\u001b[0m\u001b[0;34m(\u001b[0m\u001b[0mcoffee\u001b[0m\u001b[0;34m)\u001b[0m\u001b[0;34m)\u001b[0m\u001b[0;34m\u001b[0m\u001b[0;34m\u001b[0m\u001b[0m\n\u001b[1;32m      5\u001b[0m \u001b[0;34m\u001b[0m\u001b[0m\n\u001b[0;32m----> 6\u001b[0;31m \u001b[0mmoney\u001b[0m \u001b[0;34m=\u001b[0m \u001b[0mint\u001b[0m\u001b[0;34m(\u001b[0m\u001b[0minput\u001b[0m\u001b[0;34m(\u001b[0m\u001b[0;34m\"돈을 넣어주세요 : \"\u001b[0m\u001b[0;34m)\u001b[0m\u001b[0;34m)\u001b[0m        \u001b[0;31m#돈을 넣어주세요 : 3000\u001b[0m\u001b[0;34m\u001b[0m\u001b[0;34m\u001b[0m\u001b[0m\n\u001b[0m\u001b[1;32m      7\u001b[0m \u001b[0mprint\u001b[0m\u001b[0;34m(\u001b[0m\u001b[0;34m\"{}원을 입금하셨습니다.\"\u001b[0m\u001b[0;34m.\u001b[0m\u001b[0mformat\u001b[0m\u001b[0;34m(\u001b[0m\u001b[0mmoney\u001b[0m\u001b[0;34m)\u001b[0m\u001b[0;34m)\u001b[0m    \u001b[0;31m#3000원을 입금하셨습니다.\u001b[0m\u001b[0;34m\u001b[0m\u001b[0;34m\u001b[0m\u001b[0m\n\u001b[1;32m      8\u001b[0m \u001b[0;34m\u001b[0m\u001b[0m\n",
            "\u001b[0;32m/usr/local/lib/python3.10/dist-packages/ipykernel/kernelbase.py\u001b[0m in \u001b[0;36mraw_input\u001b[0;34m(self, prompt)\u001b[0m\n\u001b[1;32m    849\u001b[0m                 \u001b[0;34m\"raw_input was called, but this frontend does not support input requests.\"\u001b[0m\u001b[0;34m\u001b[0m\u001b[0;34m\u001b[0m\u001b[0m\n\u001b[1;32m    850\u001b[0m             )\n\u001b[0;32m--> 851\u001b[0;31m         return self._input_request(str(prompt),\n\u001b[0m\u001b[1;32m    852\u001b[0m             \u001b[0mself\u001b[0m\u001b[0;34m.\u001b[0m\u001b[0m_parent_ident\u001b[0m\u001b[0;34m,\u001b[0m\u001b[0;34m\u001b[0m\u001b[0;34m\u001b[0m\u001b[0m\n\u001b[1;32m    853\u001b[0m             \u001b[0mself\u001b[0m\u001b[0;34m.\u001b[0m\u001b[0m_parent_header\u001b[0m\u001b[0;34m,\u001b[0m\u001b[0;34m\u001b[0m\u001b[0;34m\u001b[0m\u001b[0m\n",
            "\u001b[0;32m/usr/local/lib/python3.10/dist-packages/ipykernel/kernelbase.py\u001b[0m in \u001b[0;36m_input_request\u001b[0;34m(self, prompt, ident, parent, password)\u001b[0m\n\u001b[1;32m    893\u001b[0m             \u001b[0;32mexcept\u001b[0m \u001b[0mKeyboardInterrupt\u001b[0m\u001b[0;34m:\u001b[0m\u001b[0;34m\u001b[0m\u001b[0;34m\u001b[0m\u001b[0m\n\u001b[1;32m    894\u001b[0m                 \u001b[0;31m# re-raise KeyboardInterrupt, to truncate traceback\u001b[0m\u001b[0;34m\u001b[0m\u001b[0;34m\u001b[0m\u001b[0m\n\u001b[0;32m--> 895\u001b[0;31m                 \u001b[0;32mraise\u001b[0m \u001b[0mKeyboardInterrupt\u001b[0m\u001b[0;34m(\u001b[0m\u001b[0;34m\"Interrupted by user\"\u001b[0m\u001b[0;34m)\u001b[0m \u001b[0;32mfrom\u001b[0m \u001b[0;32mNone\u001b[0m\u001b[0;34m\u001b[0m\u001b[0;34m\u001b[0m\u001b[0m\n\u001b[0m\u001b[1;32m    896\u001b[0m             \u001b[0;32mexcept\u001b[0m \u001b[0mException\u001b[0m \u001b[0;32mas\u001b[0m \u001b[0me\u001b[0m\u001b[0;34m:\u001b[0m\u001b[0;34m\u001b[0m\u001b[0;34m\u001b[0m\u001b[0m\n\u001b[1;32m    897\u001b[0m                 \u001b[0mself\u001b[0m\u001b[0;34m.\u001b[0m\u001b[0mlog\u001b[0m\u001b[0;34m.\u001b[0m\u001b[0mwarning\u001b[0m\u001b[0;34m(\u001b[0m\u001b[0;34m\"Invalid Message:\"\u001b[0m\u001b[0;34m,\u001b[0m \u001b[0mexc_info\u001b[0m\u001b[0;34m=\u001b[0m\u001b[0;32mTrue\u001b[0m\u001b[0;34m)\u001b[0m\u001b[0;34m\u001b[0m\u001b[0;34m\u001b[0m\u001b[0m\n",
            "\u001b[0;31mKeyboardInterrupt\u001b[0m: Interrupted by user"
          ]
        }
      ]
    },
    {
      "cell_type": "code",
      "source": [
        "salary = int(input('월급 입력 : '))\n",
        "income = 0  # 연봉\n",
        "tax = 0     # 세금\n",
        "\n",
        "#연봉 구하기\n",
        "if salary >= 500 :\n",
        "    income = 12 * salary\n",
        "else :\n",
        "    income = 13 * salary\n",
        "\n",
        "#세금 구하기\n",
        "if income >= 10000 :\n",
        "    tax = 0.2 * income\n",
        "elif income >= 7000 :\n",
        "    tax = 0.15 * income\n",
        "elif income >= 5000 :\n",
        "    tax = 0.12 * income\n",
        "elif income >= 1000 :\n",
        "    tax = 0.1 * income\n",
        "else :\n",
        "    tax = 0\n",
        "\n",
        "print('월급 : %d' % (salary))\n",
        "print('연봉 : %.2f' % (income))\n",
        "print('세금 : %.2f' % (tax))"
      ],
      "metadata": {
        "id": "uCfsfslskz1W"
      },
      "execution_count": null,
      "outputs": []
    },
    {
      "cell_type": "code",
      "source": [
        "somelist = ['김의찬', '유만식', '이영철', '심수련', '윤기석', '노윤희', '황우철']\n",
        "print(somelist)     #모든 색인의 값을 출력\n",
        "\n",
        "print('앞에서 4번째 요소만 출력')\n",
        "print(somelist[4])\n",
        "\n",
        "print('뒤에서 2번째 요소만 출력')\n",
        "print(somelist[-2])\n",
        "\n",
        "print('1번째부터 3번째까지 출력')\n",
        "print(somelist[1:4])\n",
        "\n",
        "print('4번째부터 끝까지 출력')\n",
        "print(somelist[4:])\n",
        "\n",
        "length = len(somelist)\n",
        "print('홀수 번째만 출력')\n",
        "print(somelist[1:length:2])\n",
        "\n",
        "print('짝수 번째만 출력')\n",
        "print(somelist[0:length:2])\n",
        "\n",
        "print('3의 배수만 출력')\n",
        "print(somelist[0:length:3])\n"
      ],
      "metadata": {
        "id": "gZ60LxoBkz3O"
      },
      "execution_count": null,
      "outputs": []
    },
    {
      "cell_type": "code",
      "source": [
        "tuple01 = (10, 20, 30)\n",
        "\n",
        "tuple01 = tuple01 + (40, )\n",
        "print('print tuple :', tuple01)\n",
        "\n",
        "tuple02 = 10, 20, 30, 40   # 단순 콤마 연결\n",
        "\n",
        "mylist = [10, 20, 30, 40]\n",
        "tuple03 = tuple(mylist)\n",
        "\n",
        "if tuple02 == tuple03 :\n",
        "    print(\"component equal\")\n",
        "else :\n",
        "    print(\"component not equal\")\n",
        "\n",
        "tuple04 = (10, 20, 30)\n",
        "tuple05 = (40, 50, 60)\n",
        "\n",
        "print('+ 연산자는 2개의 튜플을 합치는 역할을 합니다.')\n",
        "tuple06 = tuple04 + tuple05\n",
        "print(tuple06 )\n",
        "\n",
        "print('* 연산자는 튜플을 지정한 정수만큼 반복시키는 역할을 합니다.')\n",
        "tuple07 = tuple04 * 3\n",
        "print(tuple07)\n",
        "\n",
        "print('튜플을 사용하면 변수들을 swap 시킬 수 있습니다.')\n",
        "a, b = 11, 22\n",
        "a, b = b, a\n",
        "\n",
        "print('a=', a, ', b=', b)   #a= 22 , b= 11\n",
        "\n",
        "# 슬라이싱\n",
        "tuple08 = (11, 22, 33, 44, 55, 66)\n",
        "print(tuple08[1:3])   #(22, 33)\n",
        "print(tuple08[3:])   #(44, 55, 66)\n",
        "\n",
        "# 튜플은 읽기 전용이다. 다음 문장은 오류가 발생한다.\n",
        "# tuple08[0] = 100\n",
        "# TypeError: 'tuple' object does not support item assignment"
      ],
      "metadata": {
        "id": "GwMQQpJjkz6m"
      },
      "execution_count": null,
      "outputs": []
    },
    {
      "cell_type": "code",
      "source": [
        "dictionary = {'김유신':50, '윤봉길':40, '김구':60}\n",
        "print('사전 내역 : ', dictionary)\n",
        "\n",
        "print('\\nkeys() 메소드는 사전의 key 목록을 보여 줍니다.')\n",
        "for key in dictionary.keys():\n",
        "    print(key)\n",
        "\n",
        "print('\\nvalues() 메소드는 사전의 값들의 목록을 보여 줍니다.')\n",
        "for value in dictionary.values():\n",
        "    print(value)\n",
        "\n",
        "print('\\nkeys()를 이용한 value 검색하기')\n",
        "for key in dictionary.keys():\n",
        "    print('{}의 나이는 {}입니다'.format(key, dictionary[key]))\n",
        "\n",
        "print('\\nitems() 메소드는 key와 value로 이루어진 쌍(pair)을 보여 줍니다.')\n",
        "for key, value in dictionary.items():\n",
        "    print('{}의 나이는 {}입니다'.format(key, value))\n",
        "\n",
        "print('\\nin은 키의 존재 여부를 확인해줍니다.')\n",
        "findKey = '유관순'\n",
        "if findKey in dictionary :\n",
        "    print(findKey + '은(는) 존재합니다')\n",
        "else:\n",
        "    print(findKey + '은(는) 존재하지 않습니다')\n",
        "\n",
        "print('\\npop()를 이용한 데이터 끄집어 내기')\n",
        "# 팝업된 정보의 value가 result에 대입된다.\n",
        "result = dictionary.pop('김구')\n",
        "print('pop 이후의 사전 내용 : ', dictionary)\n",
        "print('pop된 내용 : ' , result)\n",
        "\n",
        "print('\\nclear() 메소드는 사전의 내용을 모두 비웁니다.')\n",
        "dictionary.clear()\n",
        "print('사전 내역 : ', dictionary)"
      ],
      "metadata": {
        "id": "9hZTKwn32YXi"
      },
      "execution_count": null,
      "outputs": []
    },
    {
      "cell_type": "code",
      "source": [
        "mystring = 'life is an egg'\n",
        "mylist = mystring.split()\n",
        "\n",
        "for idx in range(len(mylist)):\n",
        "    if idx % 2 == 0:\n",
        "        mylist[idx] = mylist[idx].upper()\n",
        "    else :\n",
        "        mylist[idx] = mylist[idx].lower()\n",
        "\n",
        "\n",
        "print('join() 함수를 이용하여 문자열 합치기')\n",
        "result = ' '.join(mylist)\n",
        "\n",
        "print('결과 리스트 :', result)"
      ],
      "metadata": {
        "colab": {
          "base_uri": "https://localhost:8080/"
        },
        "id": "lp_C5ai_4JQq",
        "outputId": "7afd7d6b-18dc-43ee-d57c-6588f92b2a94"
      },
      "execution_count": null,
      "outputs": [
        {
          "output_type": "stream",
          "name": "stdout",
          "text": [
            "join() 함수를 이용하여 문자열 합치기\n",
            "결과 리스트 : LIFE is AN egg\n"
          ]
        }
      ]
    },
    {
      "cell_type": "code",
      "source": [
        "coffee = 3\n",
        "price = 2000\n",
        "\n",
        "print(\"판매 가능한 커피 잔량 : %d\" % (coffee))\n",
        "print(\"단가 : %d원\" % (price))\n",
        "while True:\n",
        "    money = int(input(\"돈을 넣어주세요: \"))\n",
        "    if money == price:\n",
        "        print(\"커피를 팝니다.\")\n",
        "        coffee -= 1\n",
        "    elif money > price:\n",
        "        print(\"거스름돈 {}를 주고, 커피를 팝니다.\".format(money - price))\n",
        "        coffee -= 1\n",
        "    else:\n",
        "        print(\"돈을 다시 돌려주고, 커피를 팔지 않습니다.\")\n",
        "    print(\"남은 커피의 양은 {}개입니다.\\n\".format(coffee))\n",
        "\n",
        "    if coffee == 0:\n",
        "        print(\"커피가 다 떨어졌습니다. 판매를 중지합니다.\")\n",
        "        break"
      ],
      "metadata": {
        "id": "XwHknuwE64vJ"
      },
      "execution_count": null,
      "outputs": []
    },
    {
      "cell_type": "code",
      "source": [
        "mylist01 = list(onedata for onedata in range(1, 6))\n",
        "print(mylist01)\n",
        "\n",
        "mylist02 = list(10 * onedata for onedata in range(1, 6))\n",
        "print(mylist02)\n",
        "\n",
        "mylist03 = [3, 4, 6, 2]\n",
        "result = [idx**2 for idx in mylist03 if idx % 2 == 0]\n",
        "print(result)\n"
      ],
      "metadata": {
        "colab": {
          "base_uri": "https://localhost:8080/"
        },
        "id": "FAO_O9wX8j7R",
        "outputId": "7d76db87-4245-42b9-84ec-34e3dd6f083c"
      },
      "execution_count": null,
      "outputs": [
        {
          "output_type": "stream",
          "name": "stdout",
          "text": [
            "[1, 2, 3, 4, 5]\n",
            "[10, 20, 30, 40, 50]\n",
            "[16, 36, 4]\n"
          ]
        }
      ]
    },
    {
      "cell_type": "code",
      "source": [
        "a=int(input())\n",
        "b=int(input())\n",
        "print(a+b)"
      ],
      "metadata": {
        "colab": {
          "base_uri": "https://localhost:8080/"
        },
        "id": "G9lJ8Ii19_8Z",
        "outputId": "8bfc704c-9ebf-45cb-c1e4-7e3ed198a3a1"
      },
      "execution_count": null,
      "outputs": [
        {
          "output_type": "stream",
          "name": "stdout",
          "text": [
            "5\n",
            "6\n",
            "11\n"
          ]
        }
      ]
    },
    {
      "cell_type": "code",
      "source": [
        "이름=str(input())\n",
        "수량=int(input())\n",
        "단가=int(input())\n",
        "총금액= 수량*단가\n",
        "\n",
        "print(\"이름: %s, 수량:%d, 단가: %d, 총금액: %d\"%(이름,수량,단가,총금액))"
      ],
      "metadata": {
        "colab": {
          "base_uri": "https://localhost:8080/"
        },
        "id": "3tiQjJdl-UGI",
        "outputId": "8c249b3d-3895-4206-97b4-09b174552fd9"
      },
      "execution_count": null,
      "outputs": [
        {
          "output_type": "stream",
          "name": "stdout",
          "text": [
            "dgdfgd\n",
            "5\n",
            "6\n",
            "이름: dgdfgd, 수량:5, 단가: 6, 총금액: 30\n"
          ]
        }
      ]
    },
    {
      "cell_type": "code",
      "source": [
        "a=int(input())\n",
        "\n",
        "if a%2==0:\n",
        "  print(a**2)\n",
        "\n",
        "else:\n",
        "  print(a**3)"
      ],
      "metadata": {
        "id": "R3B22IBb_L7g",
        "outputId": "e3ec0d21-c6da-46c7-ced7-22a6d695130f",
        "colab": {
          "base_uri": "https://localhost:8080/"
        }
      },
      "execution_count": 3,
      "outputs": [
        {
          "output_type": "stream",
          "name": "stdout",
          "text": [
            "3\n",
            "27\n"
          ]
        }
      ]
    },
    {
      "cell_type": "code",
      "source": [
        "list1=[\"김의찬\",\"유만식\",\"이영철\"]\n",
        "list2=[\"심수련\",\"윤기석\",\"노윤희\"]\n",
        "list3=list1+list2\n",
        "\n",
        "i=0\n",
        "while i<len(list3):\n",
        "  if i%3==1:\n",
        "    print(list3[i])\n",
        "  i=i+1"
      ],
      "metadata": {
        "id": "q1BkPjJdVSXI",
        "outputId": "fa53034c-00b0-497a-8d19-52b8e6a52bb2",
        "colab": {
          "base_uri": "https://localhost:8080/"
        }
      },
      "execution_count": 5,
      "outputs": [
        {
          "output_type": "stream",
          "name": "stdout",
          "text": [
            "유만식\n",
            "윤기석\n"
          ]
        }
      ]
    },
    {
      "cell_type": "code",
      "source": [
        "mydict={\"바나나\":10, \"수박\":20, \"오렌지 \":15}\n",
        "\n",
        "print(mydict)"
      ],
      "metadata": {
        "id": "21TOpdYaWq7x",
        "outputId": "921c28ae-5830-44fc-be74-0df05ef3353e",
        "colab": {
          "base_uri": "https://localhost:8080/"
        }
      },
      "execution_count": 6,
      "outputs": [
        {
          "output_type": "stream",
          "name": "stdout",
          "text": [
            "{'바나나': 10, '수박': 20, '오렌지 ': 15}\n"
          ]
        }
      ]
    },
    {
      "cell_type": "code",
      "source": [
        "coffee = 10\n",
        "price = 2000\n",
        "\n",
        "print(\"판매 가능한 커피 잔량 : %d\" % (coffee))\n",
        "print(\"단가 : %d원\" % (price))\n",
        "\n",
        "while True:\n",
        "    money = int(input(\"돈을 넣어주세요: \"))\n",
        "    a=money//2000\n",
        "\n",
        "    if coffee<=0:\n",
        "      print(\"커피가 다 떨어졌습니다. 판매를 중지합니다.\")\n",
        "      break\n",
        "    elif a==0:\n",
        "      print(\"돈을 다시 돌려주고, 커피를 팔지 않습니다.\")\n",
        "      print(\"남은 커피의 양은 {}개입니다.\\n\".format(coffee))\n",
        "    else:\n",
        "      coffee1=coffee-a\n",
        "      if coffee1<0:\n",
        "        print(\"남은 커피양은 0개입니다\")\n",
        "        change=money-coffee*2000\n",
        "        coffee=0\n",
        "      else:\n",
        "        coffee=coffee-a\n",
        "        change=money-a*2000\n",
        "      print(\"남은 커피의 양은 %d개입니다.\\n\"%(coffee))\n",
        "      print(\"거스름돈 %d를 주고, 커피를 팝니다.\"%(change))\n"
      ],
      "metadata": {
        "id": "MNg3A68nXWRr",
        "outputId": "bd057cf8-7133-4e7a-dfc9-3efde54a373a",
        "colab": {
          "base_uri": "https://localhost:8080/"
        }
      },
      "execution_count": 19,
      "outputs": [
        {
          "output_type": "stream",
          "name": "stdout",
          "text": [
            "판매 가능한 커피 잔량 : 10\n",
            "단가 : 2000원\n",
            "돈을 넣어주세요: 10000\n",
            "남은 커피의 양은 5개입니다.\n",
            "\n",
            "거스름돈 0를 주고, 커피를 팝니다.\n",
            "돈을 넣어주세요: 12000\n",
            "남은 커피양은 0개입니다\n",
            "남은 커피의 양은 0개입니다.\n",
            "\n",
            "거스름돈 2000를 주고, 커피를 팝니다.\n",
            "돈을 넣어주세요: 3434\n",
            "커피가 다 떨어졌습니다. 판매를 중지합니다.\n"
          ]
        }
      ]
    },
    {
      "cell_type": "code",
      "source": [
        "wordInfo = {'세탁기':50, '선풍기':30, '청소기':40, '냉장고':60 }\n",
        "\n",
        "# 값의 크기가 큰 것부터 정렬한 후의 키를 반환합니다.\n",
        "myxticks = sorted(wordInfo, key=wordInfo.get, reverse=True)\n",
        "print(myxticks)\n",
        "\n",
        "# 키에 대하여 역순으로 정렬해줍니다.\n",
        "reverse_key = sorted(wordInfo.keys(), reverse=True)\n",
        "print(reverse_key)\n",
        "\n",
        "# 값에 대하여 역순으로 정렬해줍니다.\n",
        "chartdata = sorted(wordInfo.values(), reverse=True)\n",
        "print(chartdata)"
      ],
      "metadata": {
        "id": "HrcO3ba6feZl"
      },
      "execution_count": null,
      "outputs": []
    },
    {
      "cell_type": "code",
      "source": [
        "def nolambda(x, y):\n",
        "    return 3 * x + 2 * y\n",
        "\n",
        "x, y = 3, 5\n",
        "\n",
        "result = nolambda(x, y)\n",
        "print('일반 함수 방식 : %d' % (result))\n",
        "\n",
        "yeslambda = lambda x, y : 3 * x + 2 * y\n",
        "result = yeslambda(x, y)\n",
        "print('람다 방식 01 : %d' % (result))\n",
        "\n",
        "result = yeslambda(5, 7)\n",
        "print('람다 방식 02 : %d' % (result))"
      ],
      "metadata": {
        "id": "5Ttr41bKgys1"
      },
      "execution_count": null,
      "outputs": []
    },
    {
      "cell_type": "code",
      "source": [
        "import numpy as np\n",
        "\n",
        "print(np.zeros(3)) # 0이 3개 들어 있는 배열 생성\n",
        "\n",
        "print('\\n# zeros((2,2)) : 요소의 값이 모두 0인 2 * 2의 배열 생성')\n",
        "arrZeros = np.zeros((2, 2))\n",
        "print(arrZeros)\n",
        "\n",
        "print('\\n# ones((3, 2)) : 요소의 값이 모두 1인 3 * 2의 배열 생성')\n",
        "array2 = np.ones((3, 2))\n",
        "print(array2)"
      ],
      "metadata": {
        "id": "Hj0AqcMorWZc"
      },
      "execution_count": null,
      "outputs": []
    }
  ]
}