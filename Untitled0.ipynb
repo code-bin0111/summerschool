{
  "nbformat": 4,
  "nbformat_minor": 0,
  "metadata": {
    "colab": {
      "provenance": [],
      "authorship_tag": "ABX9TyOeYL71Z7HoBNkeVcxzC6vI",
      "include_colab_link": true
    },
    "kernelspec": {
      "name": "python3",
      "display_name": "Python 3"
    },
    "language_info": {
      "name": "python"
    }
  },
  "cells": [
    {
      "cell_type": "markdown",
      "metadata": {
        "id": "view-in-github",
        "colab_type": "text"
      },
      "source": [
        "<a href=\"https://colab.research.google.com/github/code-bin0111/summerschool/blob/main/Untitled0.ipynb\" target=\"_parent\"><img src=\"https://colab.research.google.com/assets/colab-badge.svg\" alt=\"Open In Colab\"/></a>"
      ]
    },
    {
      "cell_type": "code",
      "execution_count": null,
      "metadata": {
        "id": "1ODjDfz9bfom"
      },
      "outputs": [],
      "source": [
        "from google.colab import files\n",
        "src = list(files.upload().values())[0]\n",
        "\n"
      ]
    },
    {
      "cell_type": "code",
      "source": [
        "# 문자열 변수\n",
        "str1 = '100'\n",
        "str2 = '200'\n",
        "str3 = '12.345'\n",
        "\n",
        "# 형 변환\n",
        "int1 = int(str1)\n",
        "int2 = int(str2)\n",
        "float1 = float(str3)\n",
        "\n",
        "# 타입 비교는 == 연산자를 사용한다.\n",
        "print( int1 == str) # int1 변수는 문자열인가? 답은 False\n",
        "\n",
        "sum = int1 + int2\n",
        "print('출력1 : ', sum)   # 출력1 :  300\n",
        "\n",
        "float2 = float1 + 35.2\n",
        "print('출력2 : ', float2)   # 출력2 :  47.545\n",
        "\n",
        "# 데이터의 타입을 확인한다.\n",
        "# type() 함수를 이용하여 해당 변수가 어떤 종류의 타입인지 확인할 수 있습니다.\n",
        "print(type(str1))   # <class 'str'>\n",
        "print(type(int1))   # <class 'int'>\n",
        "print(type(float1))\t# <class 'float'>]"
      ],
      "metadata": {
        "id": "GH5679b4jMvo"
      },
      "execution_count": null,
      "outputs": []
    },
    {
      "cell_type": "code",
      "source": [
        "# 문자열 변수\n",
        "str1 = '100'\n",
        "str2 = '200'\n",
        "str3 = '12.345'\n"
      ],
      "metadata": {
        "id": "9emoRU4njb9N"
      },
      "execution_count": null,
      "outputs": []
    },
    {
      "cell_type": "code",
      "source": [
        "int1 = int(str1)\n",
        "int2 = int(str2)\n",
        "float1 = float(str3)\n",
        "\n",
        "int1+int2"
      ],
      "metadata": {
        "id": "xKyz8Cm2cAU7"
      },
      "execution_count": null,
      "outputs": []
    },
    {
      "cell_type": "code",
      "source": [
        "sum = int1 + int2\n",
        "print('출력1 : ', sum)"
      ],
      "metadata": {
        "id": "izsCKgwQky7X"
      },
      "execution_count": null,
      "outputs": []
    },
    {
      "cell_type": "code",
      "source": [
        "float2 = float1 + 35.2\n",
        "print('출력2 : ', float2)   # 출력2 :  47.545"
      ],
      "metadata": {
        "id": "sip9W5ITkzlX"
      },
      "execution_count": null,
      "outputs": []
    },
    {
      "cell_type": "code",
      "source": [
        "print(type(str1))   # <class 'str'>\n",
        "print(type(int1))   # <class 'int'>\n",
        "print(type(float1))\t# <class 'float'>]"
      ],
      "metadata": {
        "id": "oVOewf9Rkztm"
      },
      "execution_count": null,
      "outputs": []
    },
    {
      "cell_type": "code",
      "source": [
        "a=int(input())\n",
        "a"
      ],
      "metadata": {
        "id": "ib-Mfv6Akzxn"
      },
      "execution_count": null,
      "outputs": []
    },
    {
      "cell_type": "code",
      "source": [
        "coffee = 3      # 판매 가능한 커피 수\n",
        "price = 2000    # 커피의 단가\n",
        "\n",
        "print(\"우리 매장에 커피 {}잔이 있습니다.\".format(coffee))\n",
        "\n",
        "money = int(input(\"돈을 넣어주세요 : \"))        #돈을 넣어주세요 : 3000\n",
        "print(\"{}원을 입금하셨습니다.\".format(money))    #3000원을 입금하셨습니다.\n",
        "\n",
        "change = money - price\n",
        "print(\"거스름돈은 {}원이며, 커피 {}잔을 판매합니다.\".format(change, 1))\n",
        "print(\"남은 커피의 양은 {}잔입니다.\\n\".format(coffee-1))\n"
      ],
      "metadata": {
        "id": "WhbdlNjskzzu"
      },
      "execution_count": null,
      "outputs": []
    },
    {
      "cell_type": "code",
      "source": [
        "salary = int(input('월급 입력 : '))\n",
        "income = 0  # 연봉\n",
        "tax = 0     # 세금\n",
        "\n",
        "#연봉 구하기\n",
        "if salary >= 500 :\n",
        "    income = 12 * salary\n",
        "else :\n",
        "    income = 13 * salary\n",
        "\n",
        "#세금 구하기\n",
        "if income >= 10000 :\n",
        "    tax = 0.2 * income\n",
        "elif income >= 7000 :\n",
        "    tax = 0.15 * income\n",
        "elif income >= 5000 :\n",
        "    tax = 0.12 * income\n",
        "elif income >= 1000 :\n",
        "    tax = 0.1 * income\n",
        "else :\n",
        "    tax = 0\n",
        "\n",
        "print('월급 : %d' % (salary))\n",
        "print('연봉 : %.2f' % (income))\n",
        "print('세금 : %.2f' % (tax))"
      ],
      "metadata": {
        "id": "uCfsfslskz1W"
      },
      "execution_count": null,
      "outputs": []
    },
    {
      "cell_type": "code",
      "source": [
        "somelist = ['김의찬', '유만식', '이영철', '심수련', '윤기석', '노윤희', '황우철']\n",
        "print(somelist)     #모든 색인의 값을 출력\n",
        "\n",
        "print('앞에서 4번째 요소만 출력')\n",
        "print(somelist[4])\n",
        "\n",
        "print('뒤에서 2번째 요소만 출력')\n",
        "print(somelist[-2])\n",
        "\n",
        "print('1번째부터 3번째까지 출력')\n",
        "print(somelist[1:4])\n",
        "\n",
        "print('4번째부터 끝까지 출력')\n",
        "print(somelist[4:])\n",
        "\n",
        "length = len(somelist)\n",
        "print('홀수 번째만 출력')\n",
        "print(somelist[1:length:2])\n",
        "\n",
        "print('짝수 번째만 출력')\n",
        "print(somelist[0:length:2])\n",
        "\n",
        "print('3의 배수만 출력')\n",
        "print(somelist[0:length:3])\n"
      ],
      "metadata": {
        "id": "gZ60LxoBkz3O"
      },
      "execution_count": null,
      "outputs": []
    },
    {
      "cell_type": "code",
      "source": [
        "tuple01 = (10, 20, 30)\n",
        "\n",
        "tuple01 = tuple01 + (40, )\n",
        "print('print tuple :', tuple01)\n",
        "\n",
        "tuple02 = 10, 20, 30, 40   # 단순 콤마 연결\n",
        "\n",
        "mylist = [10, 20, 30, 40]\n",
        "tuple03 = tuple(mylist)\n",
        "\n",
        "if tuple02 == tuple03 :\n",
        "    print(\"component equal\")\n",
        "else :\n",
        "    print(\"component not equal\")\n",
        "\n",
        "tuple04 = (10, 20, 30)\n",
        "tuple05 = (40, 50, 60)\n",
        "\n",
        "print('+ 연산자는 2개의 튜플을 합치는 역할을 합니다.')\n",
        "tuple06 = tuple04 + tuple05\n",
        "print(tuple06 )\n",
        "\n",
        "print('* 연산자는 튜플을 지정한 정수만큼 반복시키는 역할을 합니다.')\n",
        "tuple07 = tuple04 * 3\n",
        "print(tuple07)\n",
        "\n",
        "print('튜플을 사용하면 변수들을 swap 시킬 수 있습니다.')\n",
        "a, b = 11, 22\n",
        "a, b = b, a\n",
        "\n",
        "print('a=', a, ', b=', b)   #a= 22 , b= 11\n",
        "\n",
        "# 슬라이싱\n",
        "tuple08 = (11, 22, 33, 44, 55, 66)\n",
        "print(tuple08[1:3])   #(22, 33)\n",
        "print(tuple08[3:])   #(44, 55, 66)\n",
        "\n",
        "# 튜플은 읽기 전용이다. 다음 문장은 오류가 발생한다.\n",
        "# tuple08[0] = 100\n",
        "# TypeError: 'tuple' object does not support item assignment"
      ],
      "metadata": {
        "id": "GwMQQpJjkz6m"
      },
      "execution_count": null,
      "outputs": []
    },
    {
      "cell_type": "code",
      "source": [
        "dictionary = {'김유신':50, '윤봉길':40, '김구':60}\n",
        "print('사전 내역 : ', dictionary)\n",
        "\n",
        "print('\\nkeys() 메소드는 사전의 key 목록을 보여 줍니다.')\n",
        "for key in dictionary.keys():\n",
        "    print(key)\n",
        "\n",
        "print('\\nvalues() 메소드는 사전의 값들의 목록을 보여 줍니다.')\n",
        "for value in dictionary.values():\n",
        "    print(value)\n",
        "\n",
        "print('\\nkeys()를 이용한 value 검색하기')\n",
        "for key in dictionary.keys():\n",
        "    print('{}의 나이는 {}입니다'.format(key, dictionary[key]))\n",
        "\n",
        "print('\\nitems() 메소드는 key와 value로 이루어진 쌍(pair)을 보여 줍니다.')\n",
        "for key, value in dictionary.items():\n",
        "    print('{}의 나이는 {}입니다'.format(key, value))\n",
        "\n",
        "print('\\nin은 키의 존재 여부를 확인해줍니다.')\n",
        "findKey = '유관순'\n",
        "if findKey in dictionary :\n",
        "    print(findKey + '은(는) 존재합니다')\n",
        "else:\n",
        "    print(findKey + '은(는) 존재하지 않습니다')\n",
        "\n",
        "print('\\npop()를 이용한 데이터 끄집어 내기')\n",
        "# 팝업된 정보의 value가 result에 대입된다.\n",
        "result = dictionary.pop('김구')\n",
        "print('pop 이후의 사전 내용 : ', dictionary)\n",
        "print('pop된 내용 : ' , result)\n",
        "\n",
        "print('\\nclear() 메소드는 사전의 내용을 모두 비웁니다.')\n",
        "dictionary.clear()\n",
        "print('사전 내역 : ', dictionary)"
      ],
      "metadata": {
        "id": "9hZTKwn32YXi"
      },
      "execution_count": null,
      "outputs": []
    },
    {
      "cell_type": "code",
      "source": [
        "mystring = 'life is an egg'\n",
        "mylist = mystring.split()\n",
        "\n",
        "for idx in range(len(mylist)):\n",
        "    if idx % 2 == 0:\n",
        "        mylist[idx] = mylist[idx].upper()\n",
        "    else :\n",
        "        mylist[idx] = mylist[idx].lower()\n",
        "\n",
        "\n",
        "print('join() 함수를 이용하여 문자열 합치기')\n",
        "result = ' '.join(mylist)\n",
        "\n",
        "print('결과 리스트 :', result)"
      ],
      "metadata": {
        "id": "lp_C5ai_4JQq"
      },
      "execution_count": null,
      "outputs": []
    },
    {
      "cell_type": "code",
      "source": [
        "coffee = 3\n",
        "price = 2000\n",
        "\n",
        "print(\"판매 가능한 커피 잔량 : %d\" % (coffee))\n",
        "print(\"단가 : %d원\" % (price))\n",
        "while True:\n",
        "    money = int(input(\"돈을 넣어주세요: \"))\n",
        "    if money == price:\n",
        "        print(\"커피를 팝니다.\")\n",
        "        coffee -= 1\n",
        "    elif money > price:\n",
        "        print(\"거스름돈 {}를 주고, 커피를 팝니다.\".format(money - price))\n",
        "        coffee -= 1\n",
        "    else:\n",
        "        print(\"돈을 다시 돌려주고, 커피를 팔지 않습니다.\")\n",
        "    print(\"남은 커피의 양은 {}개입니다.\\n\".format(coffee))\n",
        "\n",
        "    if coffee == 0:\n",
        "        print(\"커피가 다 떨어졌습니다. 판매를 중지합니다.\")\n",
        "        break"
      ],
      "metadata": {
        "id": "XwHknuwE64vJ"
      },
      "execution_count": null,
      "outputs": []
    },
    {
      "cell_type": "code",
      "source": [
        "mylist01 = list(onedata for onedata in range(1, 6))\n",
        "print(mylist01)\n",
        "\n",
        "mylist02 = list(10 * onedata for onedata in range(1, 6))\n",
        "print(mylist02)\n",
        "\n",
        "mylist03 = [3, 4, 6, 2]\n",
        "result = [idx**2 for idx in mylist03 if idx % 2 == 0]\n",
        "print(result)\n"
      ],
      "metadata": {
        "id": "FAO_O9wX8j7R"
      },
      "execution_count": null,
      "outputs": []
    },
    {
      "cell_type": "code",
      "source": [
        "a=int(input())\n",
        "b=int(input())\n",
        "print(a+b)"
      ],
      "metadata": {
        "id": "G9lJ8Ii19_8Z"
      },
      "execution_count": null,
      "outputs": []
    },
    {
      "cell_type": "code",
      "source": [
        "이름=str(input())\n",
        "수량=int(input())\n",
        "단가=int(input())\n",
        "총금액= 수량*단가\n",
        "\n",
        "print(\"이름: %s, 수량:%d, 단가: %d, 총금액: %d\"%(이름,수량,단가,총금액))"
      ],
      "metadata": {
        "id": "3tiQjJdl-UGI"
      },
      "execution_count": null,
      "outputs": []
    },
    {
      "cell_type": "code",
      "source": [
        "a=int(input())\n",
        "\n",
        "if a%2==0:\n",
        "  print(a**2)\n",
        "\n",
        "else:\n",
        "  print(a**3)"
      ],
      "metadata": {
        "id": "R3B22IBb_L7g"
      },
      "execution_count": null,
      "outputs": []
    },
    {
      "cell_type": "code",
      "source": [
        "list1=[\"김의찬\",\"유만식\",\"이영철\"]\n",
        "list2=[\"심수련\",\"윤기석\",\"노윤희\"]\n",
        "list3=list1+list2\n",
        "\n",
        "i=0\n",
        "while i<len(list3):\n",
        "  if i%3==1:\n",
        "    print(list3[i])\n",
        "  i=i+1"
      ],
      "metadata": {
        "id": "q1BkPjJdVSXI"
      },
      "execution_count": null,
      "outputs": []
    },
    {
      "cell_type": "code",
      "source": [
        "mydict={\"바나나\":10, \"수박\":20, \"오렌지 \":15}\n",
        "\n",
        "print(mydict)"
      ],
      "metadata": {
        "id": "21TOpdYaWq7x"
      },
      "execution_count": null,
      "outputs": []
    },
    {
      "cell_type": "code",
      "source": [
        "coffee = 10\n",
        "price = 2000\n",
        "\n",
        "print(\"판매 가능한 커피 잔량 : %d\" % (coffee))\n",
        "print(\"단가 : %d원\" % (price))\n",
        "\n",
        "while True:\n",
        "    money = int(input(\"돈을 넣어주세요: \"))\n",
        "    a=money//2000\n",
        "\n",
        "    if coffee<=0:\n",
        "      print(\"커피가 다 떨어졌습니다. 판매를 중지합니다.\")\n",
        "      break\n",
        "    elif a==0:\n",
        "      print(\"돈을 다시 돌려주고, 커피를 팔지 않습니다.\")\n",
        "      print(\"남은 커피의 양은 {}개입니다.\\n\".format(coffee))\n",
        "    else:\n",
        "      coffee1=coffee-a\n",
        "      if coffee1<0:\n",
        "        print(\"남은 커피양은 0개입니다\")\n",
        "        change=money-coffee*2000\n",
        "        coffee=0\n",
        "      else:\n",
        "        coffee=coffee-a\n",
        "        change=money-a*2000\n",
        "      print(\"남은 커피의 양은 %d개입니다.\\n\"%(coffee))\n",
        "      print(\"거스름돈 %d를 주고, 커피를 팝니다.\"%(change))\n"
      ],
      "metadata": {
        "id": "MNg3A68nXWRr"
      },
      "execution_count": null,
      "outputs": []
    },
    {
      "cell_type": "code",
      "source": [
        "wordInfo = {'세탁기':50, '선풍기':30, '청소기':40, '냉장고':60 }\n",
        "\n",
        "# 값의 크기가 큰 것부터 정렬한 후의 키를 반환합니다.\n",
        "myxticks = sorted(wordInfo, key=wordInfo.get, reverse=True)\n",
        "print(myxticks)\n",
        "\n",
        "# 키에 대하여 역순으로 정렬해줍니다.\n",
        "reverse_key = sorted(wordInfo.keys(), reverse=True)\n",
        "print(reverse_key)\n",
        "\n",
        "# 값에 대하여 역순으로 정렬해줍니다.\n",
        "chartdata = sorted(wordInfo.values(), reverse=True)\n",
        "print(chartdata)"
      ],
      "metadata": {
        "id": "HrcO3ba6feZl"
      },
      "execution_count": null,
      "outputs": []
    },
    {
      "cell_type": "code",
      "source": [
        "def nolambda(x, y):\n",
        "    return 3 * x + 2 * y\n",
        "\n",
        "x, y = 3, 5\n",
        "\n",
        "result = nolambda(x, y)\n",
        "print('일반 함수 방식 : %d' % (result))\n",
        "\n",
        "yeslambda = lambda x, y : 3 * x + 2 * y\n",
        "result = yeslambda(x, y)\n",
        "print('람다 방식 01 : %d' % (result))\n",
        "\n",
        "result = yeslambda(5, 7)\n",
        "print('람다 방식 02 : %d' % (result))"
      ],
      "metadata": {
        "id": "5Ttr41bKgys1"
      },
      "execution_count": null,
      "outputs": []
    },
    {
      "cell_type": "code",
      "source": [
        "import numpy as np\n",
        "\n",
        "print(np.zeros(3)) # 0이 3개 들어 있는 배열 생성\n",
        "\n",
        "print('\\n# zeros((2,2)) : 요소의 값이 모두 0인 2 * 2의 배열 생성')\n",
        "arrZeros = np.zeros((2, 2))\n",
        "print(arrZeros)\n",
        "\n",
        "print('\\n# ones((3, 2)) : 요소의 값이 모두 1인 3 * 2의 배열 생성')\n",
        "array2 = np.ones((3, 2))\n",
        "print(array2)"
      ],
      "metadata": {
        "id": "Hj0AqcMorWZc"
      },
      "execution_count": null,
      "outputs": []
    },
    {
      "cell_type": "code",
      "source": [
        "import numpy  as np\n",
        "\n",
        "print('\\nnp.repeat 함수는 su를 rep_cnt만큼 반복한다.')\n",
        "su1 = 2\n",
        "rep_cnt = 5\n",
        "result = np.repeat(su1, rep_cnt)\n",
        "print(type(result))\n",
        "print(result)\n",
        "\n",
        "array1 = np.array([1, 2])\n",
        "array2 = np.array([3, 4])\n",
        "print('\\n1번 배열')\n",
        "print(array1)\n",
        "\n",
        "print('\\n2번 배열')\n",
        "print(array2)\n",
        "\n",
        "print('\\nnp.concatenate 함수는 배열들을 합쳐 준다.')\n",
        "result = np.concatenate((array1, array2))\n",
        "print(result)\n",
        "\n",
        "su2 = 3\n",
        "rep_cnt2 = 4\n",
        "print('\\n함수들의 중첩.')\n",
        "abcd = np.repeat(su1, rep_cnt)\n",
        "defg = np.repeat(su2, rep_cnt2)\n",
        "result = np.concatenate((abcd, defg))\n",
        "print(result)\n",
        "\n",
        "array3 = np.array([1, 2, 3, 4, 5, 6])\n",
        "print('\\nreshape 함수는 형상을 변경해준다.')\n",
        "\n",
        "print('2행 3열')\n",
        "result = np.reshape(array3, [2, 3])\n",
        "print(result)\n",
        "\n",
        "print('\\n3행 2열')\n",
        "result = np.reshape(array3, [3, 2])\n",
        "print(result)\n",
        "\n",
        "array4 = np.array([[3, 6, 2], [4, 1, 5]])\n",
        "print('\\n4번 배열')\n",
        "print(array4)\n",
        "\n",
        "print('\\n전치된 배열')\n",
        "result = np.transpose(array4)\n",
        "print(result)"
      ],
      "metadata": {
        "id": "lalaIRvR8cM-"
      },
      "execution_count": null,
      "outputs": []
    },
    {
      "cell_type": "code",
      "source": [
        "import numpy as np\n",
        "\n",
        "print(np.ones(4))\n",
        "\n",
        "arrZeros = np.zeros((2, 3))\n",
        "print(arrZeros)\n",
        "\n",
        "array2 = np.ones((3, 3))\n",
        "print(array2)"
      ],
      "metadata": {
        "id": "fJSxrzkb8eq-"
      },
      "execution_count": null,
      "outputs": []
    },
    {
      "cell_type": "code",
      "source": [
        "import numpy as np\n",
        "\n",
        "a = np.array([-1, 3, 2, -6])\n",
        "b = np.array([3, 6, 1, 2])\n",
        "A = np.reshape(a, [2, 2])\n",
        "B = np.reshape(b, [2, 2])\n",
        "\n",
        "print('\\n행렬 A')\n",
        "print(A)\n",
        "\n",
        "print('\\n행렬 B')\n",
        "print(B)\n",
        "\n",
        "result3_1 = np.matmul(A, B)\n",
        "result3_2 = np.matmul(B, A)\n",
        "\n",
        "print('\\n행렬 result3_1')\n",
        "print(result3_1)\n",
        "\n",
        "print('\\n행렬 result3_2')\n",
        "print(result3_2)\n",
        "\n",
        "b = np.reshape(b, [1, 4])\n",
        "a = np.reshape(a, [1, 4])\n",
        "b2 = np.transpose(b)\n",
        "print(b2)\n",
        "\n",
        "result = np.matmul(a, b2)\n",
        "print(result)\n"
      ],
      "metadata": {
        "id": "4LTjZW-S8ha2"
      },
      "execution_count": null,
      "outputs": []
    },
    {
      "cell_type": "code",
      "source": [
        "import numpy as np\n",
        "\n",
        "a = np.array([-1, 3, 2, -6])\n",
        "b = np.array([3, 6, 1, 2])\n",
        "A = np.reshape(a, [2, 2])\n",
        "B = np.reshape(b, [2, 2])\n",
        "\n",
        "print('\\n행렬 A')\n",
        "print(A)\n",
        "\n",
        "print('\\n행렬 B')\n",
        "print(B)\n",
        "\n",
        "result3_1 = np.matmul(A, B)\n",
        "result3_2 = np.matmul(B, A)\n",
        "\n",
        "print('\\n행렬 result3_1')\n",
        "print(result3_1)\n",
        "\n",
        "print('\\n행렬 result3_2')\n",
        "print(result3_2)\n",
        "\n",
        "b = np.reshape(b, [1, 4])\n",
        "a = np.reshape(a, [1, 4])\n",
        "b2 = np.transpose(b)\n",
        "print(b2)\n",
        "\n",
        "result = np.matmul(a, b2)\n",
        "print(result)\n"
      ],
      "metadata": {
        "id": "tqMyANvc8kAm"
      },
      "execution_count": null,
      "outputs": []
    },
    {
      "cell_type": "code",
      "source": [
        "\n",
        "import numpy as np\n",
        "\n",
        "# rint : round와 비슷한 함수\n",
        "# trunc : floor와 비슷한 함수\n",
        "\n",
        "# 유니버설 함수 사용하기\n",
        "array = np.array([1.57, 2.48, 3.93, 4.33])\n",
        "print('\\n배열 출력하기')\n",
        "print(array)\n",
        "\n",
        "print('\\nnp.ceil() 함수는 소수 자리를 올림한다')\n",
        "result = np.ceil(array)\n",
        "print(result)\n",
        "\n",
        "print('\\nnp.floor() 함수는 소수 자리를 버림한다.')\n",
        "result = np.floor(array)\n",
        "print(result)\n",
        "\n",
        "print('\\nnp.round() 함수는 소수 자리를 반올림한다.')\n",
        "result = np.round(array)\n",
        "print(result)\n",
        "\n",
        "print('\\n소수점 1자리에서 반올림.')\n",
        "result = np.round(array, 1)\n",
        "print(result)\n",
        "\n",
        "print('\\n루트 씌우기.')\n",
        "result = np.sqrt(array)\n",
        "print(result)\n",
        "\n",
        "arr = np.arange(10)\n",
        "print(arr)\n",
        "print()\n",
        "\n",
        "print('\\nexp 함수 적용.')\n",
        "result = np.exp(arr)\n",
        "print(result)\n",
        "\n",
        "x = [5, 4]\n",
        "y = [6, 3]\n",
        "\n",
        "# 두 원소 중에서 큰 값을 반환한다.\n",
        "print('\\nnp.maximum(x, y)')\n",
        "result = np.maximum(x, y)\n",
        "print(result)\n",
        "\n",
        "print('-' * 30)\n",
        "\n",
        "array1 = np.array([-1.1, 2.2, 3.3, 4.4])\n",
        "print('\\n배열 출력하기 1')\n",
        "print(array1)\n",
        "\n",
        "array2 = np.array([1.1, 2.2, 3.3, 4.4])\n",
        "print('\\n배열 출력하기 2')\n",
        "print(array2)\n",
        "\n",
        "print('\\n절댓값 구하기.')\n",
        "result = np.abs(array1)\n",
        "print(result)\n",
        "\n",
        "print('\\n배열 요소들의 값 합치기.')\n",
        "result = np.sum(array1)\n",
        "print(result)\n",
        "\n",
        "print('\\n배열 요소들의 값 비교하기.')\n",
        "result = np.equal(array1, array2)\n",
        "print(result)\n",
        "\n",
        "print('\\nnp.sum과 np.equal을 동시에 사용하기')\n",
        "print('True는 1로 False는 0으로 카운트된다.')\n",
        "result = np.sum(np.equal(array1, array2))\n",
        "print(result)\n",
        "\n",
        "print('\\n평균 구하기.')\n",
        "result = np.mean(array2)\n",
        "print(result)\n",
        "\n",
        "# 배열 연산의 기본적인 수학 함수\n",
        "arrX = np.array([[1,2],[3,4]], dtype=np.float64)\n",
        "arrY = np.array([[5,6],[7,8]], dtype=np.float64)\n",
        "\n",
        "print('\\n요소별 더하기')\n",
        "print(arrX + arrY)\n",
        "print(np.add(arrX, arrY))\n",
        "\n",
        "print('\\n요소별 빼기')\n",
        "print(arrX - arrY)\n",
        "print(np.subtract(arrX, arrY))\n",
        "\n",
        "print('\\n요소별 곱하기')\n",
        "print(arrX * arrY)\n",
        "print(np.multiply(arrX, arrY))\n",
        "\n",
        "print('\\n요소별 나누기')\n",
        "print(arrX / arrY)\n",
        "print(np.divide(arrX, arrY))\n",
        "\n",
        "print('\\n요소별 제곱근; 다음의 배열을 만듭니다')\n",
        "# [[ 1. 1.41421356][ 1.73205081  2. ]]\n",
        "print(np.sqrt(arrX))\n",
        "\n"
      ],
      "metadata": {
        "id": "3xwOIgIT8q8-"
      },
      "execution_count": null,
      "outputs": []
    },
    {
      "cell_type": "code",
      "source": [
        "from pandas import Series\n",
        "import numpy as np\n",
        "\n",
        "mylist = [10, 40, 30]\n",
        "myindex = ['김유신', '이순신', '강감찬']\n",
        "\n",
        "print('\\n#케이스01')\n",
        "myseries = Series(mylist)\n",
        "print(myseries)\n",
        "\n",
        "print('\\n#케이스02')\n",
        "myseries = Series(data=mylist)\n",
        "print(myseries)\n",
        "\n",
        "print('\\n#케이스03')\n",
        "myseries = Series(data=mylist, index=myindex)\n",
        "print(myseries)\n",
        "\n",
        "print('\\n#케이스04')\n",
        "myseries = Series(data=mylist, index=myindex, dtype=float)\n",
        "print(myseries)\n"
      ],
      "metadata": {
        "id": "UHcOELGTB70d"
      },
      "execution_count": null,
      "outputs": []
    },
    {
      "cell_type": "code",
      "source": [
        "from pandas import Series\n",
        "\n",
        "mylist = [10, 40, 30, 20]\n",
        "myseries = Series(data=mylist, index = ['강감찬', '이순신', '김유신', '광해군'])\n",
        "\n",
        "print('\\n# 자료형 확인')\n",
        "print(type(myseries))\n",
        "\n",
        "myseries.index.name = '점수'\n",
        "print('\\n#시리즈의 색인 이름')\n",
        "print(myseries.index.name)\n",
        "\n",
        "myseries.name = '학생들 시험'\n",
        "print('\\n#시리즈의 이름')\n",
        "print(myseries.name)\n",
        "\n",
        "print('\\n#색인 확인하기')\n",
        "print(myseries.index)\n",
        "\n",
        "print('\\n#시리즈의 값 확인')\n",
        "print(myseries.values)\n",
        "\n",
        "print('\\n#시리즈 정보 출력')\n",
        "print(myseries)\n",
        "\n",
        "print('\\n#반복하여 출력하기')\n",
        "for idx in myseries.index:\n",
        "    print('색인 : ' + idx + ', 값 : ' + str(myseries[idx]))"
      ],
      "metadata": {
        "id": "9tp1e-AIDEI8"
      },
      "execution_count": null,
      "outputs": []
    },
    {
      "cell_type": "code",
      "source": [
        "from pandas import Series\n",
        "\n",
        "myindex = ['용산구', '마포구', '영등포구', '서대문구', '광진구', '은평구', '서초구']\n",
        "mylist = [50, 60, 40, 80, 70, 30, 20]\n",
        "myseries = Series(data=mylist, index=myindex)\n",
        "print(myseries)\n",
        "\n",
        "\n",
        "print('\\n색인의 이름으로 값 읽기')\n",
        "print(myseries[['서대문구']])\n",
        "\n",
        "print('\\n라벨 이름으로 슬라이싱')\n",
        "print(myseries['서대문구':'은평구'])\n",
        "\n",
        "\n",
        "\n",
        "print('\\n여러 개의 색인 이름으로 데이터 읽기')\n",
        "print(myseries[['서대문구', '서초구']])\n",
        "\n",
        "print('\\n정수를 이용한 데이터 읽기')\n",
        "print(myseries[[2]])\n",
        "\n",
        "print('\\n0, 2, 4번째 데이터 읽기')\n",
        "print(myseries[0:5:2])\n",
        "\n",
        "print('\\n1, 3, 5번째 데이터 읽기')\n",
        "print(myseries[[1, 3, 5]])\n",
        "\n",
        "print('\\n슬라이싱 사용하기')\n",
        "print(myseries[3:6]) # from <= 결과 < to\t1, 3, 5번째 데이터 읽기\n",
        "\n",
        "print('\\n2번째 항목의 값 변경')\n",
        "myseries[2] = 90\n",
        "\n",
        "print('\\n2번째부터 4번째까지 항목의 값 변경')\n",
        "myseries[2:5] = 33\n",
        "\n",
        "print('\\n용산구와 서대문구만 55로 변경')\n",
        "myseries[['용산구', '서대문구']] = 55\n",
        "\n",
        "print('\\n짝수 행만 80으로 변경')\n",
        "myseries[0::2] = 80\n",
        "\n",
        "print('\\n시리즈 내용 확인')\n",
        "print(myseries)\n",
        "\n"
      ],
      "metadata": {
        "id": "oi-5Oh08DnIE"
      },
      "execution_count": null,
      "outputs": []
    }
  ]
}